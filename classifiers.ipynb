{
 "cells": [
  {
   "cell_type": "code",
   "execution_count": 2,
   "id": "4735c34a",
   "metadata": {},
   "outputs": [],
   "source": [
    "import sys\n",
    "import os\n",
    "import pandas\n",
    "import csv\n",
    "from sklearn import svm, preprocessing, neighbors, ensemble, neural_network, naive_bayes\n",
    "import joblib"
   ]
  },
  {
   "cell_type": "code",
   "execution_count": 4,
   "id": "94f3a660-3077-4a7e-94fd-df539793ebb1",
   "metadata": {},
   "outputs": [
    {
     "name": "stderr",
     "output_type": "stream",
     "text": [
      "c:\\users\\user\\appdata\\local\\programs\\python\\python37-32\\lib\\site-packages\\sklearn\\preprocessing\\data.py:334: DataConversionWarning: Data with input dtype int64, float64 were all converted to float64 by MinMaxScaler.\n",
      "  return self.partial_fit(X, y)\n",
      "c:\\users\\user\\appdata\\local\\programs\\python\\python37-32\\lib\\site-packages\\sklearn\\preprocessing\\data.py:334: DataConversionWarning: Data with input dtype int64, float64 were all converted to float64 by MinMaxScaler.\n",
      "  return self.partial_fit(X, y)\n"
     ]
    }
   ],
   "source": [
    "training_data = pandas.read_csv('train_test_datasets/features_train_70000.csv') #import our training data from the csv file (56,000 image)\n",
    "testing_data = pandas.read_csv('train_test_datasets/features_test_70000.csv') #import our test data from the csv file (14,000 image)\n",
    "\n",
    "x_train, y_train = training_data.drop([' Tag'], axis=1), training_data[' Tag']\n",
    "x_test, y_test = testing_data.drop([' Tag'], axis=1), testing_data[' Tag']\n",
    "\n",
    "scaler = preprocessing.MinMaxScaler(feature_range=(0, 1))\n",
    "x_train, x_test = scaler.fit_transform(x_train), scaler.fit_transform(x_test) #scale the features in the interval [0:1]"
   ]
  },
  {
   "cell_type": "code",
   "execution_count": 6,
   "id": "d5fd6167",
   "metadata": {},
   "outputs": [],
   "source": [
    "def create_svm_classifier(joblib_file):\n",
    "    '''\n",
    "        Train SVM classifier with training set (feature vectors) from csv file,\n",
    "        and load the trained model in .joblib file\n",
    "    '''\n",
    "    classifier = svm.SVC(kernel = 'linear', C=1, gamma='auto')\n",
    "    classifier.fit(x_train, y_train) # fit svm classifier to the train data\n",
    "        \n",
    "    print(\"SVM classifier:\")\n",
    "    print(\"Accuracy on train set: \", classifier.score(x_train, y_train))\n",
    "    print(\"Accuracy on test set: \", classifier.score(x_test, y_test))\n",
    "    \n",
    "    joblib.dump(classifier, joblib_file) # save classifier in the joblib file"
   ]
  },
  {
   "cell_type": "code",
   "execution_count": 7,
   "id": "a40d812f",
   "metadata": {},
   "outputs": [],
   "source": [
    "def create_knn_classifier(joblib_file, n_neighbors):\n",
    "    '''\n",
    "        Train KNN classifier with training set (feature vectors) from csv file,\n",
    "        and load the trained model in .joblib file\n",
    "    '''\n",
    "    classifier = neighbors.KNeighborsClassifier(n_neighbors)\n",
    "    classifier.fit(x_train, y_train) # fit svm classifier to the train data\n",
    "    \n",
    "    print(\"K-Nearest Neighbors classifier: \")\n",
    "    print(\"Accuracy on train set: \", classifier.score(x_train, y_train))\n",
    "    print(\"Accuracy on test set: \", classifier.score(x_test, y_test))\n",
    "    \n",
    "    joblib.dump(classifier, joblib_file) # save classifier in the joblib file"
   ]
  },
  {
   "cell_type": "code",
   "execution_count": 8,
   "id": "a6c7101f",
   "metadata": {},
   "outputs": [],
   "source": [
    "def create_random_forest_classifier(joblib_file, max_depth, n_estimators, max_features):\n",
    "    '''\n",
    "        Train RF classifier with training set (feature vectors) from csv file,\n",
    "        and load the trained model in .joblib file\n",
    "    '''\n",
    "    classifier = ensemble.RandomForestClassifier(max_depth=max_depth, n_estimators=n_estimators, max_features=max_features, min_samples_split=4)\n",
    "    \n",
    "    classifier.fit(x_train, y_train) # fit svm classifier to the train data\n",
    "    \n",
    "    print(\"Random Forests classifier: \")\n",
    "    print(\"Accuracy on train set: \", classifier.score(x_train, y_train))\n",
    "    print(\"Accuracy on test set: \", classifier.score(x_test, y_test))\n",
    "    \n",
    "    joblib.dump(classifier, joblib_file) # save classifier in the joblib file"
   ]
  },
  {
   "cell_type": "code",
   "execution_count": 9,
   "id": "2848e4e9",
   "metadata": {},
   "outputs": [],
   "source": [
    "def create_mlp_classifier(joblib_file, alpha):\n",
    "    '''\n",
    "        Train MLP classifier with training set (feature vectors) from csv file,\n",
    "        and load the trained model in .joblib file\n",
    "    '''    \n",
    "    classifier = neural_network.MLPClassifier(alpha=alpha, max_iter=100)\n",
    "    classifier.fit(x_train, y_train) # fit svm classifier to the train data\n",
    "    y_prediction = classifier.predict(x_test)\n",
    "    \n",
    "    print(\"MLP NN classifier: \")\n",
    "    print(\"Accuracy on train set: \", classifier.score(x_train, y_train))\n",
    "    print(\"Accuracy on test set: \", classifier.score(x_test, y_test))\n",
    "    \n",
    "    joblib.dump(classifier, joblib_file) # save classifier in the joblib file"
   ]
  },
  {
   "cell_type": "code",
   "execution_count": 10,
   "id": "e00b57e7-4f61-4bf1-9605-c1f141b72f6f",
   "metadata": {},
   "outputs": [],
   "source": [
    "def create_nb_classifier(joblib_file):\n",
    "    '''\n",
    "        Train Naive Bayes classifier with training set (feature vectors) from csv file,\n",
    "        and load the trained model in .joblib file\n",
    "    '''    \n",
    "    classifier = naive_bayes.GaussianNB()\n",
    "    classifier.fit(x_train, y_train) # fit svm classifier to the train data\n",
    "    y_prediction = classifier.predict(x_test)\n",
    "    \n",
    "    print(\"Naive Bayes classifier: \")\n",
    "    print(\"Accuracy on train set: \", classifier.score(x_train, y_train))\n",
    "    print(\"Accuracy on test set: \", classifier.score(x_test, y_test))\n",
    "    \n",
    "    joblib.dump(classifier, joblib_file) # save classifier in the joblib file"
   ]
  },
  {
   "cell_type": "code",
   "execution_count": 8,
   "id": "d3950d37",
   "metadata": {},
   "outputs": [
    {
     "name": "stdout",
     "output_type": "stream",
     "text": [
      "SVM classifier:\n",
      "Accuracy on train set:  0.9048733013089519\n",
      "Accuracy on test set:  0.9029930709336381\n",
      "K-Nearest Neighbors classifier: \n",
      "Accuracy on train set:  0.9436775656708155\n",
      "Accuracy on test set:  0.9294235302521608\n",
      "Random Forests classifier: \n",
      "Accuracy on train set:  0.9846961552884873\n",
      "Accuracy on test set:  0.9311379384241731\n"
     ]
    },
    {
     "name": "stderr",
     "output_type": "stream",
     "text": [
      "c:\\users\\user\\appdata\\local\\programs\\python\\python37-32\\lib\\site-packages\\sklearn\\neural_network\\multilayer_perceptron.py:562: ConvergenceWarning: Stochastic Optimizer: Maximum iterations (100) reached and the optimization hasn't converged yet.\n",
      "  % self.max_iter, ConvergenceWarning)\n"
     ]
    },
    {
     "name": "stdout",
     "output_type": "stream",
     "text": [
      "MLP NN classifier: \n",
      "Accuracy on train set:  0.926998696405293\n",
      "Accuracy on test set:  0.922423030216444\n",
      "Naive Bayes classifier: \n",
      "Accuracy on train set:  0.898480330005893\n",
      "Accuracy on test set:  0.8510607900564326\n"
     ]
    }
   ],
   "source": [
    "create_svm_classifier('trained_classifiers/svm-classifier.joblib')\n",
    "create_knn_classifier('trained_classifiers/knn-classifier.joblib', 7)\n",
    "create_random_forest_classifier('trained_classifiers/rf-classifier.joblib', 15, 200, 4)\n",
    "create_mlp_classifier('trained_classifiers/mlp-classifier.joblib', .01)\n",
    "create_nb_classifier('trained_classifiers/nb-classifier.joblib')"
   ]
  }
 ],
 "metadata": {
  "kernelspec": {
   "display_name": "Python 3 (ipykernel)",
   "language": "python",
   "name": "python3"
  },
  "language_info": {
   "codemirror_mode": {
    "name": "ipython",
    "version": 3
   },
   "file_extension": ".py",
   "mimetype": "text/x-python",
   "name": "python",
   "nbconvert_exporter": "python",
   "pygments_lexer": "ipython3",
   "version": "3.7.1"
  }
 },
 "nbformat": 4,
 "nbformat_minor": 5
}
