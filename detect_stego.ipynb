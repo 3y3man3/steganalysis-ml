{
 "cells": [
  {
   "cell_type": "code",
   "execution_count": 278,
   "id": "5c648a11-3f23-45cf-9e35-626a817c6fdd",
   "metadata": {},
   "outputs": [],
   "source": [
    "import matplotlib.pyplot as plt\n",
    "import cv2\n",
    "from numpy import std, ptp, median\n",
    "from scipy.stats import skew, kurtosis, mstats\n",
    "import eeglib\n",
    "import joblib\n",
    "from sklearn import preprocessing\n",
    "import pandas as pd\n",
    "import os"
   ]
  },
  {
   "cell_type": "code",
   "execution_count": 304,
   "id": "e9e7cac5-5ec8-4713-ade6-9135ae1d84ee",
   "metadata": {},
   "outputs": [],
   "source": [
    "'''\n",
    "Load all classifiers\n",
    "Each of the five classifiers was trained using 56,000 monochromatic images, link to the training dataset:\n",
    "https://ieee-dataport.org/open-access/steganalysis-still-images-lsb-steganography-features-dataset\n",
    "'''\n",
    "svm_classifier = joblib.load('trained_classifiers/svm-classifier.joblib')\n",
    "knn_classifier = joblib.load('trained_classifiers/knn-classifier.joblib')\n",
    "rf_classifier = joblib.load('trained_classifiers/rf-classifier.joblib')\n",
    "mlp_classifier = joblib.load('trained_classifiers/mlp-classifier.joblib')\n",
    "nb_classifier = joblib.load('trained_classifiers/nb-classifier.joblib')"
   ]
  },
  {
   "cell_type": "code",
   "execution_count": 310,
   "id": "38bc0729-6d5a-4a25-b2eb-6d042f7bd401",
   "metadata": {},
   "outputs": [
    {
     "name": "stdout",
     "output_type": "stream",
     "text": [
      "     Kurtosis   Skewness           Std     Range   Median   Geometric_Mean  \\\n",
      "0  199.896263  13.746562  33134.124001  502944.0    466.0       430.305625   \n",
      "\n",
      "    Mobility   Complexity  \n",
      "0   1.006884     1.030414  \n"
     ]
    },
    {
     "data": {
      "text/plain": [
       "'clean'"
      ]
     },
     "execution_count": 310,
     "metadata": {},
     "output_type": "execute_result"
    },
    {
     "data": {
      "image/png": "[encoded data removed]",
      "text/plain": [
       "<Figure size 432x288 with 1 Axes>"
      ]
     },
     "metadata": {
      "needs_background": "light"
     },
     "output_type": "display_data"
    }
   ],
   "source": [
    "def stego_or_clean(img_path, classifier):\n",
    "    '''\n",
    "        This function returns the type of the image: either clean or stego, using the chosen classifier\n",
    "        IMPORTANT: \n",
    "            - There's a chance of misclassification in case of non-monochromatic/high-resolution images,\n",
    "            - The model detects only LSB Steganography\n",
    "        This limitation is due to the training dataset, which does not provide a wide range of images.\n",
    "    '''\n",
    "    im = cv2.imread(img_path)\n",
    "    vals = im.mean(axis=2).flatten()\n",
    "    # plot histogram with 255 bins\n",
    "    b, bins, patches = plt.hist(vals, 255)\n",
    "    data = {'Kurtosis' : [kurtosis(b)], \n",
    "        ' Skewness' : [skew(b)], \n",
    "        ' Std' : [std(b)], \n",
    "        ' Range' : [ptp(b)],\n",
    "        ' Median': [median(b)],\n",
    "        ' Geometric_Mean': [mstats.gmean(b)],\n",
    "        ' Mobility': [eeglib.features.hjorthMobility(b)],\n",
    "        ' Complexity': [eeglib.features.hjorthComplexity(b)]\n",
    "       }\n",
    "    df = pd.DataFrame(data)\n",
    "    print(df)\n",
    "    testing_data = pd.read_csv('train_test_datasets/features_test_70000.csv')\n",
    "    x_test, y_test = testing_data.drop([' Tag'], axis=1), testing_data[' Tag']\n",
    "    x_test = x_test.append(df, ignore_index=True)\n",
    "    \n",
    "    scaler = preprocessing.MinMaxScaler(feature_range=(0, 1))\n",
    "    x_test = scaler.fit_transform(x_test)\n",
    "    \n",
    "    return 'stego' if classifier.predict([x_test[13999]])[0] == 1 else 'clean'\n",
    "\n",
    "#choose an image to apply the steganalysis using the chosen classifier\n",
    "stego_or_clean('images/stego/099334.jpg', rf_classifier)"
   ]
  }
 ],
 "metadata": {
  "kernelspec": {
   "display_name": "Python 3 (ipykernel)",
   "language": "python",
   "name": "python3"
  },
  "language_info": {
   "codemirror_mode": {
    "name": "ipython",
    "version": 3
   },
   "file_extension": ".py",
   "mimetype": "text/x-python",
   "name": "python",
   "nbconvert_exporter": "python",
   "pygments_lexer": "ipython3",
   "version": "3.7.1"
  }
 },
 "nbformat": 4,
 "nbformat_minor": 5
}
