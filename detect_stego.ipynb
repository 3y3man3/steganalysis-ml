{
 "cells": [
  {
   "cell_type": "code",
   "execution_count": 7,
   "id": "5c648a11-3f23-45cf-9e35-626a817c6fdd",
   "metadata": {},
   "outputs": [],
   "source": [
    "import matplotlib.pyplot as plt\n",
    "import cv2\n",
    "from numpy import std, ptp, median\n",
    "from scipy.stats import skew, kurtosis, mstats\n",
    "import eeglib\n",
    "import joblib\n",
    "from sklearn import preprocessing\n",
    "import pandas as pd\n",
    "import os"
   ]
  },
  {
   "cell_type": "code",
   "execution_count": 8,
   "id": "e9e7cac5-5ec8-4713-ade6-9135ae1d84ee",
   "metadata": {},
   "outputs": [],
   "source": [
    "'''\n",
    "Load all classifiers\n",
    "Each of the five classifiers was trained using 56,000 monochromatic images, link to the training dataset:\n",
    "https://ieee-dataport.org/open-access/steganalysis-still-images-lsb-steganography-features-dataset\n",
    "'''\n",
    "svm_classifier = joblib.load('trained_classifiers/svm-classifier.joblib')\n",
    "knn_classifier = joblib.load('trained_classifiers/knn-classifier.joblib')\n",
    "rf_classifier = joblib.load('trained_classifiers/rf-classifier.joblib')\n",
    "mlp_classifier = joblib.load('trained_classifiers/mlp-classifier.joblib')\n",
    "nb_classifier = joblib.load('trained_classifiers/nb-classifier.joblib')"
   ]
  },
  {
   "cell_type": "code",
   "execution_count": 20,
   "id": "38bc0729-6d5a-4a25-b2eb-6d042f7bd401",
   "metadata": {},
   "outputs": [
    {
     "name": "stdout",
     "output_type": "stream",
     "text": [
      "   Kurtosis   Skewness          Std    Range   Median   Geometric_Mean  \\\n",
      "0   7.47907    2.32575  1493.443619  10098.0    409.0              0.0   \n",
      "\n",
      "    Mobility   Complexity  \n",
      "0   0.707152      1.27835  \n"
     ]
    },
    {
     "name": "stderr",
     "output_type": "stream",
     "text": [
      "c:\\users\\user\\appdata\\local\\programs\\python\\python37-32\\lib\\site-packages\\scipy\\stats\\stats.py:283: RuntimeWarning: divide by zero encountered in log\n",
      "  log_a = np.log(a)\n"
     ]
    },
    {
     "data": {
      "text/plain": [
       "'clean'"
      ]
     },
     "execution_count": 20,
     "metadata": {},
     "output_type": "execute_result"
    },
    {
     "data": {
      "image/png": "[encoded data removed]",
      "text/plain": [
       "<Figure size 432x288 with 1 Axes>"
      ]
     },
     "metadata": {
      "needs_background": "light"
     },
     "output_type": "display_data"
    }
   ],
   "source": [
    "def stego_or_clean(img_path, classifier):\n",
    "    '''\n",
    "        This function returns the type of the image: either clean or stego, using the chosen classifier\n",
    "        IMPORTANT: \n",
    "            - There's a chance of misclassification in case of non-monochromatic/high-resolution images,\n",
    "            - The model detects only LSB Steganography\n",
    "        This limitation is due to the training dataset, which does not provide a wide range of images.\n",
    "    '''\n",
    "    im = cv2.imread(img_path)\n",
    "    vals = im.mean(axis=2).flatten()\n",
    "    # plot histogram with 255 bins\n",
    "    b, bins, patches = plt.hist(vals, 255)\n",
    "    data = {'Kurtosis' : [kurtosis(b)], \n",
    "        ' Skewness' : [skew(b)], \n",
    "        ' Std' : [std(b)], \n",
    "        ' Range' : [ptp(b)],\n",
    "        ' Median': [median(b)],\n",
    "        ' Geometric_Mean': [mstats.gmean(b)],\n",
    "        ' Mobility': [eeglib.features.hjorthMobility(b)],\n",
    "        ' Complexity': [eeglib.features.hjorthComplexity(b)]\n",
    "       }\n",
    "    df = pd.DataFrame(data)\n",
    "    print(df)\n",
    "    testing_data = pd.read_csv('train_test_datasets/features_test_70000.csv')\n",
    "    x_test, y_test = testing_data.drop([' Tag'], axis=1), testing_data[' Tag']\n",
    "    x_test = x_test.append(df, ignore_index=True)\n",
    "    \n",
    "    scaler = preprocessing.MinMaxScaler(feature_range=(0, 1))\n",
    "    x_test = scaler.fit_transform(x_test)\n",
    "    \n",
    "    return 'stego' if classifier.predict([x_test[13999]])[0] == 1 else 'clean'\n",
    "\n",
    "#choose an image to apply the steganalysis using the chosen classifier\n",
    "stego_or_clean('image.jpg', rf_classifier)"
   ]
  },
  {
   "cell_type": "code",
   "execution_count": null,
   "id": "3847f475-2f7d-4b78-bee3-21ef7b33b1ad",
   "metadata": {},
   "outputs": [],
   "source": []
  }
 ],
 "metadata": {
  "kernelspec": {
   "display_name": "Python 3 (ipykernel)",
   "language": "python",
   "name": "python3"
  },
  "language_info": {
   "codemirror_mode": {
    "name": "ipython",
    "version": 3
   },
   "file_extension": ".py",
   "mimetype": "text/x-python",
   "name": "python",
   "nbconvert_exporter": "python",
   "pygments_lexer": "ipython3",
   "version": "3.7.1"
  }
 },
 "nbformat": 4,
 "nbformat_minor": 5
}
