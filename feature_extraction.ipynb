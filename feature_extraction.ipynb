{
 "cells": [
  {
   "cell_type": "code",
   "execution_count": 15,
   "id": "d4ac0634",
   "metadata": {},
   "outputs": [
    {
     "data": {
      "text/plain": [
       "(1500, 1500, 3)"
      ]
     },
     "execution_count": 15,
     "metadata": {},
     "output_type": "execute_result"
    }
   ],
   "source": [
    "import cv2\n",
    "\n",
    "def get_feature_vector(img_path):\n",
    "    '''\n",
    "        return the extracted feature vector by applying\n",
    "        a High Order Statistical Steganalysis (Farid Technique) on RGB seperated channels\n",
    "    '''\n",
    "    img = cv2.imread(img_path) #read image using opencv\n",
    "    # copy file x3 for each colour channel\n",
    "#     img_red = img.copy()\n",
    "#     img_green = img.copy()\n",
    "#     img_blue = img.copy()\n",
    "\n",
    "#     # isolate colour channels\n",
    "#     img_red[:, :, 1] = 0\n",
    "#     img_red[:, :, 2] = 0\n",
    "#     img_green[:, :, 0] = 0\n",
    "#     img_green[:, :, 2] = 0\n",
    "#     img_blue[:, :, 0] = 0\n",
    "#     img_blue[:, :, 1] = 0\n",
    "\n",
    "#     # get features for each colour channel\n",
    "#     colour_channels = [img_red, img_green, img_blue]\n",
    "#     for channel in colour_channels:\n",
    "#         print features.farid36(channel)\n",
    "\n",
    "img = cv2.imread(\"Lionel-Messi.jpg\")\n",
    "img_red = img.copy()\n",
    "img_green = img.copy()\n",
    "img_blue = img.copy()\n",
    "\n",
    "# isolate colour channels\n",
    "img_red[:, :, 1] = 0\n",
    "img_red[:, :, 2] = 0\n",
    "img_green[:, :, 0] = 0\n",
    "img_green[:, :, 2] = 0\n",
    "img_blue[:, :, 0] = 0\n",
    "img_blue[:, :, 1] = 0\n"
   ]
  }
 ],
 "metadata": {
  "kernelspec": {
   "display_name": "Python 3 (ipykernel)",
   "language": "python",
   "name": "python3"
  },
  "language_info": {
   "codemirror_mode": {
    "name": "ipython",
    "version": 3
   },
   "file_extension": ".py",
   "mimetype": "text/x-python",
   "name": "python",
   "nbconvert_exporter": "python",
   "pygments_lexer": "ipython3",
   "version": "3.7.1"
  }
 },
 "nbformat": 4,
 "nbformat_minor": 5
}
