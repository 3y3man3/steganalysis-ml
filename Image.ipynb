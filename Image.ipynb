{
 "cells": [
  {
   "cell_type": "code",
   "execution_count": 4,
   "id": "d6aab1be",
   "metadata": {},
   "outputs": [],
   "source": [
    "class Image:\n",
    "    def __init__(self, name, extension, size):\n",
    "        self.name = name\n",
    "        self.extension = extension\n",
    "        self.size = size\n",
    "        self.features = {} #Dictionnary of three keys (r_features, g_features, b_features) with array as values\n",
    "        self.classification = 0 #clean = 0 / stego = 1\n",
    "        \n",
    "    def update_img(self, name, extension, size):\n",
    "        self.name = name\n",
    "        self.extension = extension\n",
    "        self.size = size\n",
    "    \n",
    "    def add_features(self, channel, feature_list):\n",
    "        self.features[channel] = feature_list\n",
    "    \n",
    "    def set_classification(self, prediction):\n",
    "        self.classification = prediction"
   ]
  }
 ],
 "metadata": {
  "kernelspec": {
   "display_name": "Python 3 (ipykernel)",
   "language": "python",
   "name": "python3"
  },
  "language_info": {
   "codemirror_mode": {
    "name": "ipython",
    "version": 3
   },
   "file_extension": ".py",
   "mimetype": "text/x-python",
   "name": "python",
   "nbconvert_exporter": "python",
   "pygments_lexer": "ipython3",
   "version": "3.7.1"
  }
 },
 "nbformat": 4,
 "nbformat_minor": 5
}
